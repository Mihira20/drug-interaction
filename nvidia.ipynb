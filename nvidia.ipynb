{
 "cells": [
  {
   "cell_type": "code",
   "execution_count": null,
   "id": "39c5f9f6-8d6d-495c-8a87-584c00907abc",
   "metadata": {},
   "outputs": [],
   "source": []
  },
  {
   "cell_type": "code",
   "execution_count": 2,
   "id": "bc2693d7-e5e1-471e-b4c7-8d0365011961",
   "metadata": {
    "scrolled": true
   },
   "outputs": [],
   "source": [
    "#Data retrieval and description\n",
    "\n",
    "import pandas as pd\n",
    "import gzip"
   ]
  },
  {
   "cell_type": "code",
   "execution_count": 3,
   "id": "e1d7cc61-edec-4a60-8f03-7263e209bcab",
   "metadata": {},
   "outputs": [
    {
     "name": "stdout",
     "output_type": "stream",
     "text": [
      "          STRUCT_ID     ACT_VALUE  ACT_UNIT     MOA\n",
      "count  19378.000000  17774.000000       0.0  2733.0\n",
      "mean    2371.957426      6.525474       NaN     1.0\n",
      "std     1541.293557      1.471356       NaN     0.0\n",
      "min        4.000000      1.200000       NaN     1.0\n",
      "25%     1057.000000      5.428000       NaN     1.0\n",
      "50%     2105.000000      6.280000       NaN     1.0\n",
      "75%     3524.000000      7.500000       NaN     1.0\n",
      "max     5462.000000     13.000000       NaN     1.0\n"
     ]
    },
    {
     "data": {
      "text/plain": [
       "['DRUG_NAME',\n",
       " 'STRUCT_ID',\n",
       " 'TARGET_NAME',\n",
       " 'TARGET_CLASS',\n",
       " 'ACCESSION',\n",
       " 'GENE',\n",
       " 'SWISSPROT',\n",
       " 'ACT_VALUE',\n",
       " 'ACT_UNIT',\n",
       " 'ACT_TYPE',\n",
       " 'ACT_COMMENT',\n",
       " 'ACT_SOURCE',\n",
       " 'RELATION',\n",
       " 'MOA',\n",
       " 'MOA_SOURCE',\n",
       " 'ACT_SOURCE_URL',\n",
       " 'MOA_SOURCE_URL',\n",
       " 'ACTION_TYPE',\n",
       " 'TDL',\n",
       " 'ORGANISM']"
      ]
     },
     "execution_count": 3,
     "metadata": {},
     "output_type": "execute_result"
    }
   ],
   "source": [
    "import gzip\n",
    "import pandas as pd\n",
    "with gzip.open('drug.target.interaction (1).tsv.gz', 'rt') as f:\n",
    "    df = pd.read_csv(f, sep='\\t')\n",
    "\n",
    "print(df.describe())\n",
    "list(df.columns)"
   ]
  },
  {
   "cell_type": "code",
   "execution_count": 4,
   "id": "bf437cd0-9353-473c-bade-de949a1abf26",
   "metadata": {},
   "outputs": [
    {
     "name": "stdout",
     "output_type": "stream",
     "text": [
      "          STRUCT_ID     ACT_VALUE  ACT_UNIT     MOA\n",
      "count  19149.000000  17545.000000       0.0  2733.0\n",
      "mean    2359.020262      6.531527       NaN     1.0\n",
      "std     1534.188516      1.468356       NaN     0.0\n",
      "min        4.000000      1.200000       NaN     1.0\n",
      "25%     1053.000000      5.430000       NaN     1.0\n",
      "50%     2090.000000      6.290000       NaN     1.0\n",
      "75%     3514.000000      7.510000       NaN     1.0\n",
      "max     5462.000000     13.000000       NaN     1.0\n"
     ]
    }
   ],
   "source": [
    "#data normalization and cleaning \n",
    "#remove duplicates \n",
    "df = df.drop_duplicates()\n",
    "print(df.describe())"
   ]
  },
  {
   "cell_type": "code",
   "execution_count": 5,
   "id": "1aa62a1d-72dd-4ee0-81b2-708989f227be",
   "metadata": {},
   "outputs": [
    {
     "name": "stdout",
     "output_type": "stream",
     "text": [
      "          STRUCT_ID     ACT_VALUE  ACT_UNIT     MOA\n",
      "count  19149.000000  17545.000000       0.0  2733.0\n",
      "mean    2359.020262      6.531527       NaN     1.0\n",
      "std     1534.188516      1.468356       NaN     0.0\n",
      "min        4.000000      1.200000       NaN     1.0\n",
      "25%     1053.000000      5.430000       NaN     1.0\n",
      "50%     2090.000000      6.290000       NaN     1.0\n",
      "75%     3514.000000      7.510000       NaN     1.0\n",
      "max     5462.000000     13.000000       NaN     1.0\n"
     ]
    }
   ],
   "source": [
    "#converting text to lower case for consistency \n",
    "text_columns = ['DRUG_NAME', 'TARGET_NAME', 'TARGET_CLASS']\n",
    "df[text_columns] = df[text_columns].apply(lambda x: x.str.lower())\n",
    "\n",
    "#Remove leading/trailing whitespace\n",
    "df = df.apply(lambda x: x.str.strip() if x.dtype == \"object\" else x)\n",
    "\n",
    "print(df.describe())"
   ]
  },
  {
   "cell_type": "code",
   "execution_count": 6,
   "id": "523fb3fc-f8ad-4e86-847d-9cd9ea734d4c",
   "metadata": {},
   "outputs": [],
   "source": [
    "#structuring the data \n",
    "df['interaction_id'] = df.index\n",
    "df['interaction_text'] = df.apply(lambda row: f\"Drug: {row['DRUG_NAME']} | Target: {row['TARGET_NAME']} | Type: {row['TARGET_CLASS']} | Action: {row['ACTION_TYPE']}\", axis=1)"
   ]
  },
  {
   "cell_type": "code",
   "execution_count": 7,
   "id": "0001f6e0-c102-4e6b-b8bd-1e72d19d207b",
   "metadata": {},
   "outputs": [],
   "source": [
    "# Select relevant columns for your model\n",
    "columns_to_keep = ['interaction_id', 'DRUG_NAME', 'TARGET_NAME', 'TARGET_CLASS', 'ACTION_TYPE', 'interaction_text']\n",
    "df_processed = df[columns_to_keep]"
   ]
  },
  {
   "cell_type": "code",
   "execution_count": 8,
   "id": "6e12bd2e-7880-4462-960f-0b444b150eb3",
   "metadata": {},
   "outputs": [],
   "source": [
    "df_processed.to_csv('processed_drug_interactions.csv', index=False)"
   ]
  },
  {
   "cell_type": "code",
   "execution_count": 9,
   "id": "c7b2b45c-cbad-4b07-971c-d1aadde4d9c5",
   "metadata": {},
   "outputs": [],
   "source": [
    "import pandas as pd\n",
    "from collections import defaultdict\n",
    "import re\n",
    "\n",
    "# Load the processed data\n",
    "df = pd.read_csv('processed_drug_interactions.csv')\n",
    "\n",
    "# Create an inverted index\n",
    "inverted_index = defaultdict(set)\n",
    "\n",
    "def tokenize(text):\n",
    "    return re.findall(r'\\w+', text.lower())\n",
    "\n",
    "for idx, row in df.iterrows():\n",
    "    tokens = tokenize(row['interaction_text'])\n",
    "    for token in tokens:\n",
    "        inverted_index[token].add(idx)"
   ]
  },
  {
   "cell_type": "code",
   "execution_count": 10,
   "id": "5083b962-af72-45fb-b850-222ef2cc9c5c",
   "metadata": {},
   "outputs": [
    {
     "name": "stdout",
     "output_type": "stream",
     "text": [
      "4     Drug: levobupivacaine | Target: cytochrome p45...\n",
      "16    Drug: aminopterin | Target: dihydrofolate redu...\n",
      "17    Drug: aminopterin | Target: dihydrofolate redu...\n",
      "18    Drug: aminopterin | Target: dihydrofolate redu...\n",
      "19    Drug: aminopterin | Target: folylpoly-gamma-gl...\n",
      "Name: interaction_text, dtype: object\n"
     ]
    }
   ],
   "source": [
    "def search(query, inverted_index, df):\n",
    "    query_tokens = tokenize(query)\n",
    "    result_indices = set.intersection(*[inverted_index[token] for token in query_tokens if token in inverted_index])\n",
    "    results = df.loc[list(result_indices)]\n",
    "    return results\n",
    "\n",
    "query = \"aspirin enzyme\"\n",
    "search_results = search(query, inverted_index, df)\n",
    "print(search_results['interaction_text'].head())"
   ]
  },
  {
   "cell_type": "code",
   "execution_count": null,
   "id": "9315fb9e-54f4-4b6f-90f9-781d6984827d",
   "metadata": {},
   "outputs": [],
   "source": []
  },
  {
   "cell_type": "code",
   "execution_count": 11,
   "id": "4749fafa-66d2-416b-adcf-fd6c5f838586",
   "metadata": {},
   "outputs": [],
   "source": [
    "\n",
    "from sklearn.feature_extraction.text import TfidfVectorizer\n",
    "from sklearn.metrics.pairwise import cosine_similarity\n",
    "import numpy as np\n",
    "\n",
    "# Create TF-IDF vectorizer\n",
    "vectorizer = TfidfVectorizer()\n",
    "tfidf_matrix = vectorizer.fit_transform(df['interaction_text'])\n",
    "\n",
    "def search_tfidf(query, vectorizer, tfidf_matrix, df):\n",
    "    query_vector = vectorizer.transform([query])\n",
    "    cosine_similarities = cosine_similarity(query_vector, tfidf_matrix).flatten()\n",
    "    related_docs_indices = cosine_similarities.argsort()[-10:][::-1]  # Top 10 results\n",
    "    results = df.iloc[related_docs_indices]\n",
    "    return results"
   ]
  },
  {
   "cell_type": "code",
   "execution_count": 12,
   "id": "aa150f3f-e00f-496d-bc69-da4e1b2087cc",
   "metadata": {},
   "outputs": [
    {
     "name": "stdout",
     "output_type": "stream",
     "text": [
      "['Drug: losartan | Target: angiotensin-converting enzyme | Type: enzyme | Action: nan', 'Drug: captopril | Target: angiotensin-converting enzyme | Type: enzyme | Action: nan', 'Drug: captopril | Target: angiotensin-converting enzyme | Type: enzyme | Action: nan', 'Drug: diiodohydroxyquinoline | Target: angiotensin-converting enzyme | Type: enzyme | Action: nan', 'Drug: sitagliptin | Target: angiotensin-converting enzyme | Type: enzyme | Action: nan', 'Drug: racecadotril | Target: angiotensin-converting enzyme | Type: enzyme | Action: nan', 'Drug: racecadotril | Target: angiotensin-converting enzyme | Type: enzyme | Action: nan', 'Drug: telmisartan | Target: angiotensin-converting enzyme | Type: enzyme | Action: nan', 'Drug: proline | Target: angiotensin-converting enzyme | Type: enzyme | Action: nan', 'Drug: captopril | Target: angiotensin-converting enzyme | Type: enzyme | Action: INHIBITOR']\n"
     ]
    }
   ],
   "source": [
    "query = \"aspirin enzyme\"\n",
    "search_results = search_tfidf(query, vectorizer, tfidf_matrix, df)\n",
    "print(search_results['interaction_text'].tolist())"
   ]
  },
  {
   "cell_type": "code",
   "execution_count": 13,
   "id": "de4bcabb-bb78-4c2a-8a0b-5f0747e973e5",
   "metadata": {},
   "outputs": [
    {
     "name": "stdout",
     "output_type": "stream",
     "text": [
      "Search results for: levobupivacaine ion channel\n",
      "Score: 0.5097\n",
      "Drug: levobupivacaine\n",
      "Target: sodium channel protein type 1 subunit alpha\n",
      "Interaction: Drug: levobupivacaine | Target: sodium channel protein type 1 subunit alpha | Type: ion channel | Action: nan\n",
      "---\n",
      "Score: 0.5072\n",
      "Drug: levobupivacaine\n",
      "Target: 5-hydroxytryptamine receptor 3a\n",
      "Interaction: Drug: levobupivacaine | Target: 5-hydroxytryptamine receptor 3a | Type: ion channel | Action: nan\n",
      "---\n",
      "Score: 0.5019\n",
      "Drug: levobupivacaine\n",
      "Target: sodium channel protein type 4 subunit alpha\n",
      "Interaction: Drug: levobupivacaine | Target: sodium channel protein type 4 subunit alpha | Type: ion channel | Action: BLOCKER\n",
      "---\n",
      "Score: 0.4773\n",
      "Drug: levobupivacaine\n",
      "Target: potassium voltage-gated channel subfamily h member 2\n",
      "Interaction: Drug: levobupivacaine | Target: potassium voltage-gated channel subfamily h member 2 | Type: ion channel | Action: nan\n",
      "---\n",
      "Score: 0.4773\n",
      "Drug: levobupivacaine\n",
      "Target: potassium voltage-gated channel subfamily d member 3\n",
      "Interaction: Drug: levobupivacaine | Target: potassium voltage-gated channel subfamily d member 3 | Type: ion channel | Action: nan\n",
      "---\n"
     ]
    }
   ],
   "source": [
    "import pandas as pd\n",
    "import numpy as np\n",
    "from sklearn.feature_extraction.text import TfidfVectorizer\n",
    "from sklearn.metrics.pairwise import cosine_similarity\n",
    "\n",
    "class HybridSearch:\n",
    "    def __init__(self, df):\n",
    "        self.df = df\n",
    "        self.documents = df['DRUG_NAME'] + ' ' + df['TARGET_NAME'] + ' ' + df['interaction_text']\n",
    "        self.documents = self.documents.fillna('')\n",
    "        self.inverted_index = self.build_inverted_index()\n",
    "        self.tfidf_vectorizer = TfidfVectorizer(ngram_range=(1, 2))\n",
    "        self.tfidf_matrix = self.tfidf_vectorizer.fit_transform(self.documents)\n",
    "\n",
    "    def build_inverted_index(self):\n",
    "        inverted_index = {}\n",
    "        for idx, doc in enumerate(self.documents):\n",
    "            for word in doc.lower().split():\n",
    "                if word not in inverted_index:\n",
    "                    inverted_index[word] = set()\n",
    "                inverted_index[word].add(idx)\n",
    "        return inverted_index\n",
    "\n",
    "    def search(self, query, top_k=5):\n",
    "        query_words = query.lower().split()\n",
    "        candidate_docs = set()\n",
    "        for word in query_words:\n",
    "            candidate_docs.update(self.inverted_index.get(word, set()))\n",
    "\n",
    "        if not candidate_docs:\n",
    "            return []\n",
    "\n",
    "        candidate_docs = list(candidate_docs)\n",
    "        candidate_matrix = self.tfidf_matrix[candidate_docs]\n",
    "        query_vector = self.tfidf_vectorizer.transform([query])\n",
    "\n",
    "        similarities = cosine_similarity(query_vector, candidate_matrix).flatten()\n",
    "\n",
    "        ranked_results = sorted(zip(candidate_docs, similarities), key=lambda x: x[1], reverse=True)\n",
    "\n",
    "        return [(self.df.iloc[doc_id], score) for doc_id, score in ranked_results[:top_k]]\n",
    "\n",
    "# Load and preprocess the data\n",
    "df = pd.read_csv('processed_drug_interactions.csv')\n",
    "\n",
    "# Initialize the hybrid search\n",
    "hybrid_search = HybridSearch(df)\n",
    "\n",
    "# Example search\n",
    "query = \"levobupivacaine ion channel\"\n",
    "results = hybrid_search.search(query)\n",
    "\n",
    "print(f\"Search results for: {query}\")\n",
    "for result, score in results:\n",
    "    print(f\"Score: {score:.4f}\")\n",
    "    print(f\"Drug: {result['DRUG_NAME']}\")\n",
    "    print(f\"Target: {result['TARGET_NAME']}\")\n",
    "    print(f\"Interaction: {result['interaction_text']}\")\n",
    "    print(\"---\")"
   ]
  },
  {
   "cell_type": "code",
   "execution_count": null,
   "id": "6beaa8d5-9587-461e-85fc-5c3fed1ae518",
   "metadata": {},
   "outputs": [],
   "source": []
  },
  {
   "cell_type": "code",
   "execution_count": null,
   "id": "9a271d2c-3d38-4eae-9205-fc25723ccbc1",
   "metadata": {},
   "outputs": [
    {
     "name": "stderr",
     "output_type": "stream",
     "text": [
      "/home/workbench/.local/lib/python3.10/site-packages/tqdm/auto.py:21: TqdmWarning: IProgress not found. Please update jupyter and ipywidgets. See https://ipywidgets.readthedocs.io/en/stable/user_install.html\n",
      "  from .autonotebook import tqdm as notebook_tqdm\n",
      "Some weights of BertForSequenceClassification were not initialized from the model checkpoint at bert-base-uncased and are newly initialized: ['classifier.bias', 'classifier.weight']\n",
      "You should probably TRAIN this model on a down-stream task to be able to use it for predictions and inference.\n"
     ]
    },
    {
     "data": {
      "text/html": [
       "\n",
       "    <div>\n",
       "      \n",
       "      <progress value='2' max='2874' style='width:300px; height:20px; vertical-align: middle;'></progress>\n",
       "      [   2/2874 : < :, Epoch 0.00/3]\n",
       "    </div>\n",
       "    <table border=\"1\" class=\"dataframe\">\n",
       "  <thead>\n",
       " <tr style=\"text-align: left;\">\n",
       "      <th>Step</th>\n",
       "      <th>Training Loss</th>\n",
       "    </tr>\n",
       "  </thead>\n",
       "  <tbody>\n",
       "  </tbody>\n",
       "</table><p>"
      ],
      "text/plain": [
       "<IPython.core.display.HTML object>"
      ]
     },
     "metadata": {},
     "output_type": "display_data"
    }
   ],
   "source": [
    "import pandas as pd\n",
    "import torch\n",
    "from transformers import BertTokenizer, BertForSequenceClassification, Trainer, TrainingArguments\n",
    "from datasets import Dataset\n",
    "from sklearn.model_selection import train_test_split\n",
    "\n",
    "# Load the data\n",
    "df = pd.read_csv('processed_drug_interactions.csv')\n",
    "\n",
    "# Fill missing values in ACTION_TYPE with a default category, e.g., 'Unknown'\n",
    "df['ACTION_TYPE'] = df['ACTION_TYPE'].fillna('Unknown')  # Fixed assignment without inplace=True\n",
    "\n",
    "# Prepare the dataset\n",
    "texts = df['interaction_text'].tolist()\n",
    "\n",
    "# Convert ACTION_TYPE to categorical codes (including 'Unknown' as a new category)\n",
    "df['ACTION_TYPE'] = df['ACTION_TYPE'].astype('category')\n",
    "labels = df['ACTION_TYPE'].cat.codes.tolist()\n",
    "\n",
    "# Split the dataset\n",
    "train_texts, val_texts, train_labels, val_labels = train_test_split(texts, labels, test_size=0.2)\n",
    "\n",
    "# Initialize the tokenizer\n",
    "tokenizer = BertTokenizer.from_pretrained('bert-base-uncased')\n",
    "\n",
    "# Tokenize the data\n",
    "train_encodings = tokenizer(train_texts, truncation=True, padding=True)\n",
    "val_encodings = tokenizer(val_texts, truncation=True, padding=True)\n",
    "\n",
    "# Create PyTorch datasets\n",
    "train_dataset = Dataset.from_dict({\n",
    "    'input_ids': train_encodings['input_ids'],\n",
    "    'attention_mask': train_encodings['attention_mask'],\n",
    "    'labels': train_labels\n",
    "})\n",
    "val_dataset = Dataset.from_dict({\n",
    "    'input_ids': val_encodings['input_ids'],\n",
    "    'attention_mask': val_encodings['attention_mask'],\n",
    "    'labels': val_labels\n",
    "})\n",
    "\n",
    "# Initialize the model\n",
    "num_labels = len(df['ACTION_TYPE'].cat.categories)  # Number of unique labels, including 'Unknown'\n",
    "model = BertForSequenceClassification.from_pretrained('bert-base-uncased', num_labels=num_labels)\n",
    "\n",
    "# Set up training arguments\n",
    "training_args = TrainingArguments(\n",
    "    output_dir='./results',\n",
    "    num_train_epochs=3,\n",
    "    per_device_train_batch_size=16,\n",
    "    per_device_eval_batch_size=64,\n",
    "    warmup_steps=500,\n",
    "    weight_decay=0.01,\n",
    "    logging_dir='./logs',\n",
    ")\n",
    "\n",
    "# Initialize Trainer\n",
    "trainer = Trainer(\n",
    "    model=model,\n",
    "    args=training_args,\n",
    "    train_dataset=train_dataset,\n",
    "    eval_dataset=val_dataset\n",
    ")\n",
    "\n",
    "# Fine-tune the model\n",
    "trainer.train()\n",
    "\n",
    "# Save the fine-tuned model\n",
    "model.save_pretrained('./fine_tuned_bert')\n",
    "tokenizer.save_pretrained('./fine_tuned_bert')\n"
   ]
  },
  {
   "cell_type": "code",
   "execution_count": null,
   "id": "31c924dd-ea74-423e-a0f4-31b75ee7c207",
   "metadata": {},
   "outputs": [],
   "source": [
    "import pandas as pd\n",
    "import torch\n",
    "from transformers import BertTokenizer, BertForSequenceClassification\n",
    "from sklearn.feature_extraction.text import TfidfVectorizer\n",
    "from sklearn.metrics.pairwise import cosine_similarity\n",
    "\n",
    "# Load the fine-tuned model and tokenizer\n",
    "model = BertForSequenceClassification.from_pretrained('./fine_tuned_bert')\n",
    "tokenizer = BertTokenizer.from_pretrained('./fine_tuned_bert')\n",
    "\n",
    "# Load the data\n",
    "df = pd.read_csv('processed_drug_interactions.csv')\n",
    "\n",
    "# Retrieval Component\n",
    "vectorizer = TfidfVectorizer()\n",
    "tfidf_matrix = vectorizer.fit_transform(df['interaction_text'])\n",
    "\n",
    "def retrieve_relevant_passages(query, top_k=5):\n",
    "    query_vec = vectorizer.transform([query])\n",
    "    similarities = cosine_similarity(query_vec, tfidf_matrix)[0]\n",
    "    top_indices = similarities.argsort()[-top_k:][::-1]\n",
    "    return df.iloc[top_indices]['interaction_text'].tolist()\n",
    "\n",
    "# Generation Component\n",
    "def generate_response(query, passages):\n",
    "    combined_input = query + \" \" + \" \".join(passages)\n",
    "    inputs = tokenizer(combined_input, truncation=True, padding=True, return_tensors=\"pt\")\n",
    "    with torch.no_grad():\n",
    "        outputs = model(**inputs)\n",
    "    \n",
    "    # Get the predicted class (ACTION_TYPE)\n",
    "    predicted_class = torch.argmax(outputs.logits, dim=1).item()\n",
    "    action_type = df['ACTION_TYPE'].cat.categories[predicted_class]\n",
    "    \n",
    "    # Construct a more informative response\n",
    "    response = f\"Based on the query '{query}' and the retrieved drug interaction information, \"\n",
    "    response += f\"the predicted action type is: {action_type}.\\n\\n\"\n",
    "    response += \"Relevant passages:\\n\"\n",
    "    for i, passage in enumerate(passages, 1):\n",
    "        response += f\"{i}. {passage}\\n\"\n",
    "    \n",
    "    return response\n",
    "\n",
    "# RAG Pipeline\n",
    "def rag_pipeline(query):\n",
    "    relevant_passages = retrieve_relevant_passages(query)\n",
    "    response = generate_response(query, relevant_passages)\n",
    "    return response\n",
    "\n",
    "# Example usage\n",
    "def process_user_query():\n",
    "    while True:\n",
    "        user_query = input(\"Enter your drug interaction query (or 'quit' to exit): \")\n",
    "        if user_query.lower() == 'quit':\n",
    "            break\n",
    "        result = rag_pipeline(user_query)\n",
    "        print(\"\\nRAG System Response:\")\n",
    "        print(result)\n",
    "        print(\"\\n\" + \"=\"*50 + \"\\n\")\n",
    "\n",
    "# Run the interactive query processor\n",
    "if __name__ == \"__main__\":\n",
    "    print(\"Welcome to the Drug Interaction RAG System!\")\n",
    "    print(\"You can ask questions about drug interactions.\")\n",
    "    print(\"Type 'quit' to exit the program.\\n\")\n",
    "    process_user_query()"
   ]
  }
 ],
 "metadata": {
  "kernelspec": {
   "display_name": "Python 3 (ipykernel)",
   "language": "python",
   "name": "python3"
  },
  "language_info": {
   "codemirror_mode": {
    "name": "ipython",
    "version": 3
   },
   "file_extension": ".py",
   "mimetype": "text/x-python",
   "name": "python",
   "nbconvert_exporter": "python",
   "pygments_lexer": "ipython3",
   "version": "3.10.12"
  }
 },
 "nbformat": 4,
 "nbformat_minor": 5
}
